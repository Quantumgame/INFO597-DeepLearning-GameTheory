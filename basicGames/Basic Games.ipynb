{
 "cells": [
  {
   "cell_type": "markdown",
   "metadata": {},
   "source": [
    "# Basic Game - Iterated Prisoner's Dilemma"
   ]
  },
  {
   "cell_type": "markdown",
   "metadata": {},
   "source": [
    "\n",
    "Prisoner's Dilenma is implemented in a module called game_types. For an example of use the PrisonersDilemma class see the pseudocode snippet below (I dicuss different types of strategies availiable in subsequent cells):\n",
    "```python\n",
    "from game_types import PrisonersDilemma\n",
    "...\n",
    "...\n",
    "...\n",
    "agent1 = Strategy() # Some Strategy for agent1\n",
    "agent2 = Strategy() # Some Strategy for agent2\n",
    "game = PrisonersDilemma(agent1, agent2) # Play Prisoners Dilemma with agent1 and agent2\n",
    "num_iter = 10000 # Play the game 10000 times\n",
    "game.play(num_iter)\n",
    "data = game.data # grab data from game\n",
    "```\n",
    "\n",
    "## Scenario - TCP User's Game\n",
    "\n",
    "In this scenario [Robert Brunner](http://www.astro.illinois.edu/people/bigdog) uploads a dataset and asks two graduate students *Edward* and *Will* to download and perform data exploration on it. For the sake of simplicity in this game Edward and Will are the only ones on a special network and they recieve no interference from others.\n",
    "\n",
    "The traffic for this network is governed by the TCP Protocol and one feature of TCP is the backoff mechanism. If the rates that Edward and Will are sending packets to this network causes congestion they (`backoff` and) each reduce the rate for a while until the network subsides. This is the correct implementation. A defective implementation of TCP would be one that does not backoff. The users in this game have 2 choices. To Cooperate (use the correct implementation of the TCP protocol) or to defect (use an incorrect implementation of the TCP protocol).\n",
    "\n",
    "The payoff matrix is below. The numbers in the box are the utility values. For this example the higher the utlity value the faster the dataset is downloaded. Will is the first player and is the first number in each box. Edward is the second player and is the the second number in each box. \n",
    "\n",
    "If Edward and Will follow the correct protocol they will both download the dataset in a reasonable amout of time (top left). If Will decides he wants the data faster and uses a defective TCP protocol while Edward still follows the correct protocol Will downloads the dataset much faster than (Top Right). Vise-versa (bottom left). If they both defect they download the dataset significantly slower than if they both cooperated.\n",
    "\n",
    "![Game Theory TCP Example](http://i.imgur.com/4EIHitN.png =25x25)"
   ]
  },
  {
   "cell_type": "markdown",
   "metadata": {},
   "source": [
    "## Types of Strategies\n",
    "\n",
    "The strategies of Will and Edward will depend on what they want to achieve. Edward's part may be based on Will's work so it would make sense for Will to defect and Edward cooperates on purpose. If it's a competition they may try to defect to get a head start. If both split up the work then it may be in there interest to Cooperate.\n",
    "\n",
    "I've implemented the following basic strategies:\n",
    "\n",
    "### Cooperate\n",
    "- Cooperate: With this strategy Will or Edward (the agent) always cooperates. To create an agent that uses this strategy you can do the following in Python:\n",
    "```python\n",
    "from strategies import cooperate as c\n",
    "agent = c.Cooperate()\n",
    "```\n",
    "### Defect\n",
    "- Defect: With this strategy the agent always defects. To create an agent that uses this strategy you can do the following in Python:\n",
    "```python\n",
    "from strategies import defect as d\n",
    "agent = d.Defect()\n",
    "```\n",
    "### Chaos\n",
    "- Chaos: An agent uses this strategu to cause chaos by cooperating or defecting at random. To create an agent that uses this strategy you can do the following in Python:\n",
    "```python\n",
    "from strategies import chaos as ch\n",
    "agent = ch.Chaos()\n",
    "```\n",
    "### Grim\n",
    "- Grim: This strategy is the most unforgiving. The agent cooperates until the opponent defects, in which case it will defect for the remainder of the game. (This is also known as a trigger strategy). To create an agent that uses this strategy you can do the following in Python:\n",
    "```python\n",
    "from strategies import grim as g\n",
    "agent = g.Grim()\n",
    "```\n",
    "### Pavlov\n",
    "- Pavlov: This is another trigger strategy where initally the agent will cooperate until it loses then it will change it's strategy (defect). The agent will continue to change it's strategy if it loses. To create an agent that uses this strategy you can do the following in Python:\n",
    "```python\n",
    "from strategies import pavlov as p\n",
    "agent = p.Pavlov()\n",
    "```\n",
    "### Q-Learning\n",
    "- Q-Learning: This agent uses [Q-learning](https://en.wikipedia.org/wiki/Q-learning) for it's strategy. To create an agent that uses this strategy you can do the following in Python:\n",
    "```python\n",
    "from strategies import machine_learning as ml\n",
    "agent = ml.QLearn()\n",
    "```\n",
    "### Human\n",
    "- Human: This agent recieves the action as input from a human player. To create an agent that uses this strategy you can do the following in Python:\n",
    "```python\n",
    "from strategies import human as h\n",
    "agent = h.Human()\n",
    "```"
   ]
  },
  {
   "cell_type": "code",
   "execution_count": 6,
   "metadata": {},
   "outputs": [
    {
     "ename": "ImportError",
     "evalue": "No module named 'plotly'",
     "output_type": "error",
     "traceback": [
      "\u001b[0;31m---------------------------------------------------------------------------\u001b[0m",
      "\u001b[0;31mImportError\u001b[0m                               Traceback (most recent call last)",
      "\u001b[0;32m<ipython-input-6-c27a4132ad2e>\u001b[0m in \u001b[0;36m<module>\u001b[0;34m()\u001b[0m\n\u001b[0;32m----> 1\u001b[0;31m \u001b[0;32mimport\u001b[0m \u001b[0mplotly\u001b[0m\u001b[0;34m\u001b[0m\u001b[0m\n\u001b[0m",
      "\u001b[0;31mImportError\u001b[0m: No module named 'plotly'"
     ]
    }
   ],
   "source": [
    "import plotly"
   ]
  },
  {
   "cell_type": "markdown",
   "metadata": {},
   "source": [
    "## Simulating Games"
   ]
  },
  {
   "cell_type": "code",
   "execution_count": 4,
   "metadata": {},
   "outputs": [],
   "source": [
    "from game_types import PrisonersDilemma # Importing Game\n",
    "\n",
    "# Importing Strategies\n",
    "from strategies import chaos as c\n",
    "from strategies import defect as d\n",
    "from strategies import machine_learning as ml\n",
    "from strategies import pavlov as p"
   ]
  },
  {
   "cell_type": "markdown",
   "metadata": {},
   "source": [
    "## Chaos VS Defect"
   ]
  },
  {
   "cell_type": "code",
   "execution_count": 5,
   "metadata": {
    "collapsed": true
   },
   "outputs": [],
   "source": [
    "# Create agents and play the game for 10000 iteratations\n",
    "agent0 = c.Chaos()\n",
    "agent1 = d.Defect()\n",
    "game_cd = PrisonersDilemma(agent0, agent1)\n",
    "game_cd.play(10000)\n",
    "\n",
    "# Plot"
   ]
  },
  {
   "cell_type": "markdown",
   "metadata": {},
   "source": [
    "## Grim VS Pavlov"
   ]
  },
  {
   "cell_type": "code",
   "execution_count": null,
   "metadata": {
    "collapsed": true
   },
   "outputs": [],
   "source": []
  },
  {
   "cell_type": "markdown",
   "metadata": {},
   "source": [
    "## Q-Learning VS Pavlov"
   ]
  },
  {
   "cell_type": "code",
   "execution_count": null,
   "metadata": {
    "collapsed": true
   },
   "outputs": [],
   "source": []
  },
  {
   "cell_type": "markdown",
   "metadata": {},
   "source": [
    "## Q-Learning VS Chaos"
   ]
  }
 ],
 "metadata": {
  "anaconda-cloud": {},
  "kernelspec": {
   "display_name": "Python [Root]",
   "language": "python",
   "name": "Python [Root]"
  },
  "language_info": {
   "codemirror_mode": {
    "name": "ipython",
    "version": 3
   },
   "file_extension": ".py",
   "mimetype": "text/x-python",
   "name": "python",
   "nbconvert_exporter": "python",
   "pygments_lexer": "ipython3",
   "version": "3.5.2"
  }
 },
 "nbformat": 4,
 "nbformat_minor": 1
}
